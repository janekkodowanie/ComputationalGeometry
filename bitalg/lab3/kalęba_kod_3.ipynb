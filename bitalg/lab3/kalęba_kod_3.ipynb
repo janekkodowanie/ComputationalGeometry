{
 "cells": [
  {
   "cell_type": "code",
   "execution_count": null,
   "metadata": {},
   "outputs": [],
   "source": [
    "from enum import Enum\n",
    "\n",
    "import numpy as np\n",
    "import pandas as pd\n",
    "import matplotlib.pyplot as plt\n",
    "from bitalg.tests.test3 import Test\n",
    "from bitalg.visualizer.main import Visualizer"
   ]
  },
  {
   "cell_type": "markdown",
   "metadata": {},
   "source": [
    "# Triangulacja wielokątów monotonicznych - problem monitorowania galerii\n"
   ]
  },
  {
   "cell_type": "markdown",
   "metadata": {},
   "source": [
    "## Przydatne funkcje\n"
   ]
  },
  {
   "cell_type": "code",
   "execution_count": null,
   "metadata": {
    "collapsed": false
   },
   "outputs": [],
   "source": [
    "def custom_polygon():\n",
    "    %matplotlib tk\n",
    "    from matplotlib.backend_bases import MouseButton\n",
    "    '''\n",
    "    Cała ta funkcja umożliwia zadawanie wierzchołków z myszki.\n",
    "    Po uruchomieniu kodu, włączy się okno, na którym należy klikać lewym przyciskiem myszy\n",
    "    w miejsca, w których chcemy, aby były nasze kolejne wierzchołki. Istnieje możliwość zapisania\n",
    "    figury, jeśli klikniemy w lewym dolnym rogu na ikonkę zapisu.\n",
    "    '''\n",
    "    c_polygon = []\n",
    "    \n",
    "    fig, ax = plt.subplots()\n",
    "    ax.set_title('Polygon')\n",
    "    plt.xlim(0, 10)\n",
    "    plt.ylim(0, 10)\n",
    "    \n",
    "    def on_click(event):\n",
    "        if event.button is MouseButton.LEFT:\n",
    "            x = event.xdata\n",
    "            y = event.ydata\n",
    "            c_polygon.append((x, y))\n",
    "            ax.plot(*c_polygon[-1], marker='.', color='blue')\n",
    "            plt.show()\n",
    "    \n",
    "    plt.connect('button_press_event', on_click)\n",
    "    plt.show(block=True)\n",
    "        \n",
    "    %matplotlib inline\n",
    "    \n",
    "    return c_polygon"
   ]
  },
  {
   "cell_type": "code",
   "execution_count": null,
   "metadata": {},
   "outputs": [],
   "source": [
    "polygon_example_1 = [(5,5), (3,4), (6,3), (4,2), (6,0), (7,1), (8,4)]\n",
    "polygon_example_2 = [(2,0), (5,1), (6,0), (8,3), (7,2), (8,7), (6,9), (5,8), (2,9), (1,7), (2,4), (4,5), (3,6), (5, 7), (5.5, 3), (2,2), (1,3), (0,1)]\n",
    "polygon_example_colors = [1, 3, 1, 0, 2, 4, 0, 2, 0, 4, 1, 4, 4, 3, 4, 2, 0, 4]\n",
    "polygon_example_tri = [(polygon_example_1[0], polygon_example_1[2]),\n",
    "                      (polygon_example_1[2], polygon_example_1[5]),\n",
    "                      (polygon_example_1[2], polygon_example_1[6]),\n",
    "                      (polygon_example_1[2], polygon_example_1[4])]"
   ]
  },
  {
   "cell_type": "code",
   "execution_count": null,
   "metadata": {},
   "outputs": [],
   "source": [
    "def draw_polygon(polygon):\n",
    "    vis = Visualizer()\n",
    "    points = polygon\n",
    "    vis.add_polygon(polygon, fill=False)\n",
    "    vis.show()"
   ]
  },
  {
   "cell_type": "code",
   "execution_count": null,
   "metadata": {},
   "outputs": [],
   "source": [
    "def draw_polygon_colors(polygon,colors):\n",
    "    points_start=[]\n",
    "    points_end=[]\n",
    "    points_connect=[]\n",
    "    points_divide=[]\n",
    "    points_regular=[]\n",
    "    for i in range(len(polygon)):\n",
    "        if colors[i]==0:\n",
    "            points_start.append(polygon[i])\n",
    "        elif colors[i]==1:\n",
    "            points_end.append(polygon[i])\n",
    "        elif colors[i]==2:\n",
    "            points_connect.append(polygon[i])\n",
    "        elif colors[i]==3:\n",
    "            points_divide.append(polygon[i])\n",
    "        elif colors[i]==4:\n",
    "            points_regular.append(polygon[i])\n",
    "\n",
    "    vis = Visualizer()\n",
    "    colors_start = ['green']\n",
    "    color_end=['red']\n",
    "    color_connect=['blue']\n",
    "    color_divide=['cyan']\n",
    "    color_regular=['#3B240B']\n",
    "    vis.add_polygon(polygon, fill=False)\n",
    "    vis.add_point(points_start, color=colors_start)\n",
    "    vis.add_point(points_end, color=color_end)\n",
    "    vis.add_point(points_connect, color=color_connect)\n",
    "    vis.add_point(points_divide, color=color_divide)\n",
    "    vis.add_point(points_regular, color=color_regular)\n",
    "    vis.show()"
   ]
  },
  {
   "cell_type": "code",
   "execution_count": null,
   "metadata": {},
   "outputs": [],
   "source": [
    "def draw_polygon_tri(polygon,tri):\n",
    "\n",
    "    vis = Visualizer()\n",
    "    points = polygon\n",
    "    tri_line_segments = tri\n",
    "    vis.add_polygon(points, fill=False)\n",
    "    vis.add_point(points)\n",
    "    vis.add_line_segment(tri_line_segments, color='red')\n",
    "    vis.show()"
   ]
  },
  {
   "cell_type": "markdown",
   "metadata": {},
   "source": [
    "## Wprowadzenie\n",
    "Celem ćwiczenia jest:\n",
    "- sprawdzanie $y$-monotoniczności\n",
    "- podział wierchołków na kategorie\n",
    "- triangulacja wielokąta monotonicznego"
   ]
  },
  {
   "cell_type": "markdown",
   "metadata": {},
   "source": [
    "### Przykładowy wielokąt $y$-monotoniczny"
   ]
  },
  {
   "cell_type": "code",
   "execution_count": null,
   "metadata": {},
   "outputs": [],
   "source": [
    "draw_polygon(polygon_example_1)"
   ]
  },
  {
   "cell_type": "markdown",
   "metadata": {},
   "source": [
    "Do tego celu wygeneruj wielokąt."
   ]
  },
  {
   "cell_type": "code",
   "execution_count": null,
   "metadata": {},
   "outputs": [],
   "source": [
    "polygon = [(6, 1), (4, 5), (3, 3), (0, 2)]\n",
    "draw_polygon(polygon)"
   ]
  },
  {
   "cell_type": "markdown",
   "metadata": {},
   "source": [
    "## Czy wielokąt jest $y$-monotoniczny?"
   ]
  },
  {
   "cell_type": "markdown",
   "metadata": {},
   "source": [
    "Wielokąt jest monotoniczny, gdy jego wierzchołki mogą być ułożone w taki sposób, że jedna z jego współrzędnych (na przykład współrzędna $x$ lub $y$, w zależności od układu współrzędnych) zawsze rośnie lub maleje wzdłuż kolejnych wierzchołków. Innymi słowy, dla każdej pary wierzchołków wielokąta (oprócz wierzchołka startowego i końcowego), jeden z punktów ma większą (lub mniejszą) wartość danej współrzędnej niż drugi punkt.\n",
    "\n",
    "W praktyce, wielokąt monotoniczny może być łatwiej sortowany lub przetwarzany w pewnych algorytmach geometrycznych, ponieważ istnieje pewna kolejność, w jakiej wierzchołki pojawiają się wzdłuż danej osi (np. osi $x$ lub $y$). Monotoniczność może ułatwić znajdowanie przecięć linii w takim wielokącie lub wykonywanie innych operacji geometrycznych. W tym zadaniu interesuje nas monotoniczność wielokąta wzdłuż osi $y$."
   ]
  },
  {
   "cell_type": "markdown",
   "metadata": {},
   "source": [
    "<span style=\"color:red\">Ćw.</span> Uzupełnij funkcję ```is_y_monotonic```. Pamiętaj, aby sprawozdanie zawierało krótki opis działania tej funkcji."
   ]
  },
  {
   "cell_type": "code",
   "execution_count": null,
   "metadata": {},
   "outputs": [],
   "source": [
    "def is_y_monotonic(polygon):\n",
    "    \"\"\"\n",
    "    Funkcja określa czy podana figura jest y-monotoniczna.\n",
    "    :param polygon: tablica krotek punktów na płaszczyźnie euklidesowej podanych przeciwnie do ruchu wskazówek zegara - nasz wielokąt\n",
    "    :return: wartość bool - true, jeśli wielokąt jest monotoniczny i false jeśli nie jest\n",
    "    \"\"\"\n",
    "    \n",
    "    change_points = 0\n",
    "    previous_difference = polygon[1][1] - polygon[0][1]\n",
    "    \n",
    "    if previous_difference == 0:\n",
    "        return False\n",
    "    \n",
    "    for i in range(2, len(polygon)):\n",
    "        current_difference = polygon[i][1] - polygon[i - 1][1]\n",
    "        \n",
    "        if current_difference == 0:\n",
    "            return False\n",
    "        \n",
    "        if current_difference > 0 > previous_difference:\n",
    "            change_points += 1\n",
    "              \n",
    "        if current_difference < 0 < previous_difference:\n",
    "            change_points += 1\n",
    "\n",
    "        previous_difference = current_difference\n",
    "                \n",
    "    return change_points <= 2\n",
    "    "
   ]
  },
  {
   "cell_type": "markdown",
   "metadata": {},
   "source": [
    "Przeprowadź test poprawności powyższej funkcji."
   ]
  },
  {
   "cell_type": "code",
   "execution_count": null,
   "metadata": {},
   "outputs": [],
   "source": [
    "Test().runtest(1, is_y_monotonic)"
   ]
  },
  {
   "cell_type": "markdown",
   "metadata": {},
   "source": [
    "Sprawdź monotoniczność swojego wielokątu."
   ]
  },
  {
   "cell_type": "code",
   "execution_count": null,
   "metadata": {},
   "outputs": [],
   "source": [
    "print(is_y_monotonic(polygon))"
   ]
  },
  {
   "cell_type": "markdown",
   "metadata": {},
   "source": [
    "***"
   ]
  },
  {
   "cell_type": "markdown",
   "metadata": {},
   "source": [
    "# Podział wierzchołków na kategorie"
   ]
  },
  {
   "cell_type": "markdown",
   "metadata": {},
   "source": [
    "Wierzchołki naszego wielokąta możemy podzielić na parę kategorii:\n",
    "- początkowe, gdy obaj jego sąsiedzi leżą poniżej i kąt wewnętrzny ma mniej niż 180 stopni. To wierzchołki, w których zaczyna się monotoniczny spadek\n",
    "- końcowe, gdy obaj jego sąsiedzi leżą powyżej i kąt wewnętrzny ma mniej niż 180 stopni. To wierzchołki, w których monotoniczność wielokąta się zmienia, czyli na przykład zaczyna się monotoniczny wzrost, jeśli wcześniej był spadek, lub na odwrót.\n",
    "\n",
    "Wierzchołki startowe i końcowe są ważne w kontekście algorytmów przetwarzania wielokątów monotonicznych, takich jak algorytmy dziel i zwyciężaj oraz triangulacji.\n",
    "- dzielący, gdy obaj jego sąsiedzi leżą poniżej i kąt wewnęntrzny ma więcej niż 180 stopni. To wierzchołki, które wyznaczają przekątne (linie łączące), tworzące trójkąty podczas triangulacji.\n",
    "- łączący, gdy obaj jego sąsiedzi leżą powyżej i kąt wewnęntrzny ma więcej niż 180 stopni. To wierzchołki, które są połączone liniami (przekątnymi) wewnątrz wielokąta, tworząc trójkąty.\n",
    "\n",
    "Wierzchołki łączące i dzielące odgrywają kluczową rolę w procesie triangulacji wielokątów, pozwalając na podział figury na trójkąty w sposób bezkolizyjny.\n",
    "- prawidłowy, pozostałe przypadki, jeden sąsiad powyżej, drugi poniżej\n"
   ]
  },
  {
   "cell_type": "markdown",
   "metadata": {},
   "source": [
    "### Przykładowy wielokąt z pokolorowanymi wierzchołkami."
   ]
  },
  {
   "cell_type": "code",
   "execution_count": null,
   "metadata": {},
   "outputs": [],
   "source": [
    "draw_polygon_colors(polygon_example_2,polygon_example_colors)"
   ]
  },
  {
   "cell_type": "markdown",
   "metadata": {},
   "source": [
    "<span style=\"color:red\">Ćw.</span> Uzupełnij funkcję ```color_vertex``` ."
   ]
  },
  {
   "cell_type": "code",
   "execution_count": null,
   "metadata": {
    "collapsed": false
   },
   "outputs": [],
   "source": [
    "def determinant(a, b, c):\n",
    "    return (b[0] - a[0]) * (c[1] - a[1]) - (c[0] - a[0]) * (b[1] - a[1])"
   ]
  },
  {
   "cell_type": "code",
   "execution_count": null,
   "metadata": {},
   "outputs": [],
   "source": [
    "def color_vertex(polygon):\n",
    "\n",
    "    n = len(polygon)\n",
    "    colors = [-1 for _ in range(n)]\n",
    "    \n",
    "    for i in range(n):\n",
    "        current = polygon[i]\n",
    "        previous = polygon[i - 1]\n",
    "        next = polygon[(i + 1) % n]\n",
    "        \n",
    "        if previous[1] < current[1] and next[1] < current[1]:\n",
    "            # current is over both neighbors\n",
    "            if determinant(previous, current, next) > 0:\n",
    "                # 0 < alpha < 180\n",
    "                colors[i] = 0\n",
    "            else:\n",
    "                # 180 < alpha < 360\n",
    "                colors[i] = 3\n",
    "                \n",
    "        elif previous[1] > current[1] and next[1] > current[1]:\n",
    "            # current is below both neighbors\n",
    "            if determinant(previous, current, next) > 0:\n",
    "                # 0 < alpha < 180\n",
    "                colors[i] = 1\n",
    "            else:\n",
    "                # 180 < alpha < 360\n",
    "                colors[i] = 2\n",
    "                \n",
    "        else:\n",
    "            colors[i] = 4\n",
    "        \n",
    "    return colors"
   ]
  },
  {
   "cell_type": "markdown",
   "metadata": {},
   "source": [
    "Przeprowadź test poprawności powyższej funkcji. "
   ]
  },
  {
   "cell_type": "code",
   "execution_count": null,
   "metadata": {},
   "outputs": [],
   "source": [
    "Test().runtest(2, color_vertex)"
   ]
  },
  {
   "cell_type": "markdown",
   "metadata": {},
   "source": [
    "Zwizualizuj swój wielokąt z pokolorowanymi według kategorii wierzchołkami."
   ]
  },
  {
   "cell_type": "code",
   "execution_count": null,
   "metadata": {},
   "outputs": [],
   "source": [
    "colors = color_vertex(polygon)\n",
    "draw_polygon_colors(polygon,colors)"
   ]
  },
  {
   "cell_type": "markdown",
   "metadata": {},
   "source": [
    "***"
   ]
  },
  {
   "cell_type": "markdown",
   "metadata": {},
   "source": [
    "# Triangulacja wielokąta monotonicznego"
   ]
  },
  {
   "cell_type": "markdown",
   "metadata": {},
   "source": [
    "Triangulacja wielokąta monotonicznego to proces podziału wielokąta monotonicznego na trójkąty poprzez dodawanie przekątnych (linii łączących wierzchołki), które nie przecinają się wewnętrznie."
   ]
  },
  {
   "cell_type": "markdown",
   "metadata": {},
   "source": [
    "### Przykładowy wielokąt podzielony na trójkąty."
   ]
  },
  {
   "cell_type": "code",
   "execution_count": null,
   "metadata": {},
   "outputs": [],
   "source": [
    "draw_polygon_tri(polygon_example_1, polygon_example_tri)"
   ]
  },
  {
   "cell_type": "markdown",
   "metadata": {},
   "source": [
    "<span style=\"color:red\">Ćw.</span> Uzupełnij funkcję ```triangulation```. Wykorzystaj algorytm opisany na wykładzie."
   ]
  },
  {
   "cell_type": "code",
   "execution_count": null,
   "metadata": {
    "collapsed": false
   },
   "outputs": [],
   "source": [
    "class Point:\n",
    "        def __init__(self, position: tuple, color, side, idx):\n",
    "            self.pos = position\n",
    "            self.color = color\n",
    "            self.side = side\n",
    "            self.idx = idx\n",
    "            \n",
    "        def __str__(self):\n",
    "            return f\"Point: {self.pos}, color: {self.color}, side: {self.side}, idx: {self.idx}\"\n",
    "\n",
    "\n",
    "class Point_side(Enum):\n",
    "    left = 1\n",
    "    right = 2"
   ]
  },
  {
   "cell_type": "code",
   "execution_count": null,
   "metadata": {
    "collapsed": false
   },
   "outputs": [],
   "source": [
    "def divide_points(points):\n",
    "    \n",
    "    # Funkcja dzieli punkty na dwa łańcuchy - prawy i lewy\n",
    "    # Element początkowy i końcowy są przydzielane do różnych łancuchów\n",
    "    \n",
    "    start = points.index(max(points, key=lambda x: x[1]))\n",
    "    end = points.index(min(points, key=lambda x: x[1]))\n",
    "    \n",
    "    sides = [None for _ in range(len(points))]\n",
    "    \n",
    "    sides[start] = Point_side.left\n",
    "    sides[end] = Point_side.right\n",
    "    \n",
    "    i = (end + 1) % len(points)\n",
    "    while i != start:\n",
    "        sides[i] = Point_side.right\n",
    "        i = (i + 1) % len(points)\n",
    "    \n",
    "    i = (start + 1) % len(points)\n",
    "    while i != end:\n",
    "        sides[i] = Point_side.left\n",
    "        i = (i + 1) % len(points)\n",
    "        \n",
    "    return sides\n"
   ]
  },
  {
   "cell_type": "code",
   "execution_count": null,
   "metadata": {
    "collapsed": false
   },
   "outputs": [],
   "source": [
    "def triangle_inside_polygon(a, b, c):\n",
    "    d = determinant(a.pos, b.pos, c.pos)\n",
    "                    \n",
    "    if c.side == Point_side.left:\n",
    "        return d > 0\n",
    "    \n",
    "    return d < 0\n"
   ]
  },
  {
   "cell_type": "code",
   "execution_count": null,
   "metadata": {
    "collapsed": false
   },
   "outputs": [],
   "source": [
    "def edge(points, a, b):\n",
    "    return True if (abs(a.idx - b.idx) == 1 or \n",
    "                    abs(a.idx - b.idx) == len(points) - 1) \\\n",
    "        else False\n"
   ]
  },
  {
   "cell_type": "code",
   "execution_count": null,
   "metadata": {},
   "outputs": [],
   "source": [
    "def triangulation(polygon, show_gif=False):\n",
    "    \"\"\"\n",
    "    Funkcja dokonuje triangulacji wielokąta monotonicznego.\n",
    "    :param polygon: tablica krotek punktów na płaszczyźnie euklidesowej podanych przeciwnie do ruchu wskazówek zegara - nasz wielokąt\n",
    "    :return: tablica krotek dodawanych po kolei przekątnych np: [(1,5),(2,3)], \n",
    "    oznacza, że triangulacja polega na dodaniu przekątnej pomiędzy wierzchołki o indeksach 1 i 5 oraz 2 i 3\n",
    "    \"\"\"\n",
    "        \n",
    "    if not is_y_monotonic(polygon):\n",
    "        raise Exception(\"Polygon is not y-monotonic\")\n",
    "    \n",
    "    n = len(polygon)    \n",
    "    diagonals = set()\n",
    "    \n",
    "    colors = color_vertex(polygon)\n",
    "    string_colors = ['green', 'red', 'blue', 'cyan', '#1f0605']\n",
    "    \n",
    "    ########## Visualisation ##########\n",
    "    vis = Visualizer()\n",
    "    vis.add_polygon(polygon, fill=False)\n",
    "    \n",
    "    for point in polygon:\n",
    "        vis.add_point(point, color=string_colors[colors[polygon.index(point)]])\n",
    "    ###################################\n",
    "    \n",
    "    side = divide_points(polygon)\n",
    "    \n",
    "    points = [Point(polygon[i], colors[i], side[i], i) for i in range(n)]\n",
    "    \n",
    "    points.sort(key=lambda x: x.pos[1], reverse=True)        \n",
    "    \n",
    "    stack = [points[0], points[1]]\n",
    "        \n",
    "    for i in range(2, n):\n",
    "        v = points[i]\n",
    "        \n",
    "        new_stack = []\n",
    "        if not stack[-1].side == v.side:\n",
    "            # v and stack[-1] are on different chains\n",
    "            while len(stack) > 0:\n",
    "                p = stack.pop()\n",
    "                \n",
    "                if not edge(points, p, v) and (v.idx, p.idx) not in diagonals:\n",
    "                    diagonals.add((p.idx, v.idx))\n",
    "                    \n",
    "                    ###################################\n",
    "                    vis.add_line_segment([(p.pos, v.pos)], color='red')\n",
    "                    vis.show()\n",
    "                    ###################################\n",
    "                    \n",
    "            new_stack.append(points[i - 1])\n",
    "            new_stack.append(v)\n",
    "            \n",
    "        else:\n",
    "            # v and stack[-1] are on the same chain\n",
    "            while len(stack) >= 2:\n",
    "                p = stack[-1]\n",
    "                \n",
    "                # O(1)\n",
    "                if triangle_inside_polygon(stack[-2], stack[-1], v) and not edge(points, p, v) and (v.idx, p.idx) not in diagonals:\n",
    "                    diagonals.add((v.idx, p.idx))\n",
    "                                        \n",
    "                    ###################################\n",
    "                    vis.add_line_segment([(p.pos, v.pos)], color='red')\n",
    "                    vis.show()\n",
    "                    ###################################\n",
    "                    \n",
    "                    stack.pop()\n",
    "                    \n",
    "                # O(1)\n",
    "                elif triangle_inside_polygon(stack[-2], stack[-1], v) and not edge(points, stack[-2], v) and (v.idx, stack[-2].idx) not in diagonals:\n",
    "                    diagonals.add((v.idx, stack[-2].idx))\n",
    "                    \n",
    "                    ###################################\n",
    "                    vis.add_line_segment([(stack[-2].pos, v.pos)], color='red')\n",
    "                    vis.show()\n",
    "                    ###################################\n",
    "                    \n",
    "                    stack.pop()\n",
    "                    \n",
    "                else:\n",
    "                    new_stack.append(stack.pop())\n",
    "            \n",
    "            new_stack.append(stack.pop())\n",
    "            new_stack.reverse()\n",
    "            \n",
    "            new_stack.append(v)\n",
    "                        \n",
    "        stack = new_stack\n",
    "            \n",
    "    ###################################\n",
    "    vis.show()\n",
    "    \n",
    "    if show_gif:\n",
    "        vis.show_gif(256)\n",
    "        vis.show_gif(256)\n",
    "        vis.show_gif(256)\n",
    "    ###################################\n",
    "    \n",
    "    return list(diagonals)"
   ]
  },
  {
   "cell_type": "markdown",
   "metadata": {},
   "source": [
    "Jakich struktur można użyć do przechowywania wielokątu, oraz utworzonej triangulacji? Uzasadnij wybór struktury w swoim algorytmie"
   ]
  },
  {
   "cell_type": "markdown",
   "metadata": {},
   "source": [
    "ODPOWIEDŹ: Do przechowywania wielokątu użyłem listy obiektów klasy Point, która zawiera informacje o kolorze, stronie, indeksie oraz pozycji punktu. Do przechowywania triangulacji użyłem zbioru krotek, które zawierają indeksy punktów, które są połączone przekątną. Wybrałem set, ponieważ dzięki temu mogłem sprawdzić, czy dana przekątna już istnieje w zbiorze w czasie stałym. "
   ]
  },
  {
   "cell_type": "markdown",
   "metadata": {},
   "source": [
    "Przeprowadź testy poprawności powyższej funkcji.\n"
   ]
  },
  {
   "cell_type": "code",
   "execution_count": null,
   "metadata": {},
   "outputs": [],
   "source": [
    "Test().runtest(3, triangulation)"
   ]
  },
  {
   "cell_type": "markdown",
   "metadata": {},
   "source": [
    "Zwizualizuj powstały wielokąt podzielony na trójkąty."
   ]
  },
  {
   "cell_type": "code",
   "execution_count": null,
   "metadata": {},
   "outputs": [],
   "source": [
    "tri = triangulation(polygon)\n",
    "# draw_polygon_tri(polygon, [(polygon[x], polygon[y]) for (x, y) in tri])"
   ]
  },
  {
   "cell_type": "code",
   "execution_count": null,
   "metadata": {
    "collapsed": false
   },
   "outputs": [],
   "source": [
    "def proper_form(polygon):\n",
    "    lowest = min(polygon, key=lambda x: x[1])\n",
    "    lowest_idx = polygon.index(lowest)\n",
    "    return [polygon[(lowest_idx + i) % len(polygon)] for i in range(len(polygon))]"
   ]
  },
  {
   "cell_type": "code",
   "execution_count": null,
   "metadata": {
    "collapsed": false
   },
   "outputs": [],
   "source": [
    "polygon = custom_polygon()\n",
    "draw_polygon(polygon)\n",
    "draw_polygon_colors(polygon, color_vertex(polygon))\n",
    "tri = triangulation(polygon, True)\n",
    "draw_polygon_tri(polygon, [(polygon[x], polygon[y]) for (x, y) in tri])"
   ]
  },
  {
   "cell_type": "code",
   "execution_count": null,
   "metadata": {
    "collapsed": false
   },
   "outputs": [],
   "source": [
    "polygon = custom_polygon()\n",
    "draw_polygon(polygon)\n",
    "draw_polygon_colors(polygon, color_vertex(polygon))\n",
    "tri = triangulation(polygon, True)\n",
    "draw_polygon_tri(polygon, [(polygon[x], polygon[y]) for (x, y) in tri])"
   ]
  },
  {
   "cell_type": "code",
   "execution_count": null,
   "metadata": {
    "collapsed": false
   },
   "outputs": [],
   "source": [
    "polygon = custom_polygon()\n",
    "draw_polygon(polygon)\n",
    "draw_polygon_colors(polygon, color_vertex(polygon))\n",
    "tri = triangulation(polygon, True)\n",
    "draw_polygon_tri(polygon, [(polygon[x], polygon[y]) for (x, y) in tri])"
   ]
  }
 ],
 "metadata": {
  "kernelspec": {
   "display_name": "Python 3 (ipykernel)",
   "language": "python",
   "name": "python3"
  },
  "language_info": {
   "codemirror_mode": {
    "name": "ipython",
    "version": 3
   },
   "file_extension": ".py",
   "mimetype": "text/x-python",
   "name": "python",
   "nbconvert_exporter": "python",
   "pygments_lexer": "ipython3",
   "version": "3.12.0"
  }
 },
 "nbformat": 4,
 "nbformat_minor": 4
}
